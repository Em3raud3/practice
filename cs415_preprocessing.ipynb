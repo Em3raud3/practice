{
 "cells": [
  {
   "cell_type": "code",
   "execution_count": 1,
   "source": [
    "import pandas as pd\n",
    "import numpy as np\n",
    "import matplotlib.pyplot as plt\n",
    "\n",
    "data = pd.read_csv('https://archive.ics.uci.edu/ml/machine-learning-databases/breast-cancer-wisconsin/breast-cancer-wisconsin.data', header=None)\n",
    "\n",
    "data.columns = ['Sample code', 'Clump Thickness', 'Uniformity of Cell Size','Uniformity of Cell Shape', 'Marginal Adhesion', 'Single Epithelial Cell Size', 'Bare Nuclei', 'Bland Chromatin', 'Normal Nucleoli', 'Mitoses','Class']\n",
    "\n",
    "data = data.drop(['Sample code'],axis=1)\n",
    "\n",
    "#! Missing Data in the dataset are represented by \"?\", so we change it to NaN\n",
    "data = data.replace('?',np.NaN)\n",
    "\n",
    "print('Number of instances = %d' % (data.shape[0]))\n",
    "print('Number of attributes = %d' % (data.shape[1]))\n",
    "\n",
    "for col in data.columns:\n",
    "    print(f\"{col}: {data[col].isna().sum()}\")\n",
    "\n",
    "\n",
    "#! editing column \"Bare Nuclei\"\n",
    "\n",
    "data2 = data['Bare Nuclei']\n",
    "print('Before replacing missing values:')\n",
    "print(data2[20:25])\n",
    "\n",
    "data2 = data2.fillna(data2.median())\n",
    "\n",
    "print('\\nAfter replacing missing values:')\n",
    "print(data2[20:25])\n",
    "\n",
    "#! Discarding records with dataset\n",
    "\n",
    "print('Number of rows in original data = %d' % (data.shape[0]))\n",
    "\n",
    "data2 = data.dropna()\n",
    "\n",
    "print('Number of rows after discarding missing values = %d' % (data2.shape[0]))\n",
    "\n",
    "#! Outliners\n",
    "\n",
    "data2 = data.drop(['Class'],axis=1)\n",
    "data2['Bare Nuclei'] = pd.to_numeric(data2['Bare Nuclei'])\n",
    "data2.boxplot(figsize=(20,3))\n",
    "plt.show()\n",
    "\n",
    "Z = (data2-data2.mean())/data2.std()\n",
    "print(Z[20:25])\n",
    "\n",
    "print('\\nNumber of rows before discarding outliers = %d' % (Z.shape[0]))\n",
    "\n",
    "Z2 = Z.loc[((Z > -3).sum(axis=1)==9) & ((Z <= 3).sum(axis=1)==9),:]\n",
    "print('Number of rows after discarding missing values = %d' % (Z2.shape[0]))\n",
    "\n",
    "#! Duplicate Data\n",
    "\n",
    "dups = data.duplicated()\n",
    "print('Number of duplicate rows = %d' % (dups.sum()))\n",
    "data.loc[[11,28]]\n",
    "\n",
    "print('Number of rows before discarding duplicates = %d' % (data.shape[0]))\n",
    "data2 = data.drop_duplicates()\n",
    "print('Number of rows after discarding duplicates = %d' % (data2.shape[0]))\n",
    "\n"
   ],
   "outputs": [
    {
     "output_type": "stream",
     "name": "stdout",
     "text": [
      "Number of instances = 699\n",
      "Number of attributes = 10\n",
      "Clump Thickness: 0\n",
      "Uniformity of Cell Size: 0\n",
      "Uniformity of Cell Shape: 0\n",
      "Marginal Adhesion: 0\n",
      "Single Epithelial Cell Size: 0\n",
      "Bare Nuclei: 16\n",
      "Bland Chromatin: 0\n",
      "Normal Nucleoli: 0\n",
      "Mitoses: 0\n",
      "Class: 0\n",
      "Before replacing missing values:\n",
      "20     10\n",
      "21      7\n",
      "22      1\n",
      "23    NaN\n",
      "24      1\n",
      "Name: Bare Nuclei, dtype: object\n",
      "\n",
      "After replacing missing values:\n",
      "20    10\n",
      "21     7\n",
      "22     1\n",
      "23     1\n",
      "24     1\n",
      "Name: Bare Nuclei, dtype: object\n",
      "Number of rows in original data = 699\n",
      "Number of rows after discarding missing values = 683\n"
     ]
    },
    {
     "output_type": "display_data",
     "data": {
      "image/png": "[encoded data removed]",
      "text/plain": [
       "<Figure size 1440x216 with 1 Axes>"
      ]
     },
     "metadata": {
      "needs_background": "light"
     }
    },
    {
     "output_type": "stream",
     "name": "stdout",
     "text": [
      "    Clump Thickness  Uniformity of Cell Size  Uniformity of Cell Shape  \\\n",
      "20         0.917080                -0.044070                 -0.406284   \n",
      "21         1.982519                 0.611354                  0.603167   \n",
      "22        -0.503505                -0.699494                 -0.742767   \n",
      "23         1.272227                 0.283642                  0.603167   \n",
      "24        -1.213798                -0.699494                 -0.742767   \n",
      "\n",
      "    Marginal Adhesion  Single Epithelial Cell Size  Bare Nuclei  \\\n",
      "20           2.519152                     0.805662     1.771569   \n",
      "21           0.067638                     1.257272     0.948266   \n",
      "22          -0.632794                    -0.549168    -0.698341   \n",
      "23          -0.632794                    -0.549168          NaN   \n",
      "24          -0.632794                    -0.549168    -0.698341   \n",
      "\n",
      "    Bland Chromatin  Normal Nucleoli   Mitoses  \n",
      "20         0.640688         0.371049  1.405526  \n",
      "21         1.460910         2.335921 -0.343666  \n",
      "22        -0.589645        -0.611387 -0.343666  \n",
      "23         1.460910         0.043570 -0.343666  \n",
      "24        -0.179534        -0.611387 -0.343666  \n",
      "\n",
      "Number of rows before discarding outliers = 699\n",
      "Number of rows after discarding missing values = 632\n",
      "Number of duplicate rows = 236\n",
      "Number of rows before discarding duplicates = 699\n",
      "Number of rows after discarding duplicates = 463\n"
     ]
    }
   ],
   "metadata": {}
  }
 ],
 "metadata": {
  "orig_nbformat": 4,
  "language_info": {
   "name": "python",
   "version": "3.8.10",
   "mimetype": "text/x-python",
   "codemirror_mode": {
    "name": "ipython",
    "version": 3
   },
   "pygments_lexer": "ipython3",
   "nbconvert_exporter": "python",
   "file_extension": ".py"
  },
  "kernelspec": {
   "name": "python3",
   "display_name": "Python 3.8.10 64-bit"
  },
  "interpreter": {
   "hash": "767d51c1340bd893661ea55ea3124f6de3c7a262a8b4abca0554b478b1e2ff90"
  }
 },
 "nbformat": 4,
 "nbformat_minor": 2
}